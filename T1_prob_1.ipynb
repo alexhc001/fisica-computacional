{
 "cells": [
  {
   "cell_type": "code",
   "execution_count": 52,
   "metadata": {
    "collapsed": true
   },
   "outputs": [],
   "source": [
    "from pylab import *\n",
    "%matplotlib inline "
   ]
  },
  {
   "cell_type": "markdown",
   "metadata": {
    "collapsed": true
   },
   "source": [
    "Para el primer problema modifiqué los códigos que ya se tenían de la clase de manera que pudiesen resolver simultáneamente dos ecuaciones acopladas: la función deseada y su derivada, de manera que fuera posible resolver la ecuación de segundo grado propuesta en la tarea.\n",
    "\n",
    "Primero definimos las funciones que se utilizarán para el cálculo numérico y que son derivadas del problema que estemos lidiando. Para este caso, consideraremos la ecuación $\\ddot y + 0.5 \\dot y + \\sin y = e^{-t} \\sin 3t $. La primera función \"dfuncion1\" corresponde a la derivada de la función $y(t)$ que deseamos conocer; la segunda: \"ddfuncion\", a la derivada segunda de la función $y(t)$ (que en esta ocasión se obtiene de despejarla de la ecuación diferencial de segundo orden). La segunda es la derivada tercera de la función que deseamos conocer (ésta sólo se usará en el método de Taylor a segundo orden). Todas estas derivadas están tomadas respecto del parámetro t, y, en general, son funciones tanto de la primera y segunda derivada de la función que deseamos conocer como del parámetro $t$"
   ]
  },
  {
   "cell_type": "code",
   "execution_count": 53,
   "metadata": {
    "collapsed": true
   },
   "outputs": [],
   "source": [
    "def dfuncion1(z,y,t):\n",
    "    return z"
   ]
  },
  {
   "cell_type": "code",
   "execution_count": 54,
   "metadata": {
    "collapsed": true
   },
   "outputs": [],
   "source": [
    "def ddfuncion1(z,y,t):\n",
    "    return -0.5*z - miseno(y,10) + exp(-t)*miseno(t,10)"
   ]
  },
  {
   "cell_type": "code",
   "execution_count": 55,
   "metadata": {
    "collapsed": true
   },
   "outputs": [],
   "source": [
    "def dddfuncion1(z,y,t):\n",
    "    return -0.5*ddfuncion1(z,y,t) - cos(y)*dfuncion1(z,y,t) + 3*cos(3*t)*exp(-t) - exp(-t)*miseno(3*t,10)"
   ]
  },
  {
   "cell_type": "markdown",
   "metadata": {},
   "source": [
    "Tanto para el método de Euler como para el de Taylor, se puede partir del problema $y' = f(y,t)$ donde la derivada de y se propone de manera discreta para un intervalo pequeño del dominio:\n",
    "\n",
    "$\\frac{y(t + \\Delta t) - y(t)}{h} = f(y(t),t)$\n",
    "\n",
    "De aquí:\n",
    "\n",
    "$y(t + \\Delta t) = y(t) + f(y(t),t) \\Delta t = y(t) + y'(t) \\Delta t$\n",
    "\n",
    "De aquí se puede obtener para una serie de puntos en el dominio espaciados por $\\Delta t$ el valor aproximado de la función $y(t)$, eso concreta el método de Euler.\n",
    "\n",
    "El método de Taylor toma a $y(t + \\Delta)$ como una función que se puede aproximar como una serie de Taylor alrededor de un punto (de inicio) como:\n",
    "\n",
    "$y(t) = y(t_0) + y'(t_0)(t - t_0) + \\frac{y''(t_0)(t-t_0)^2}{2!} + \\cdot \\cdot \\cdot $\n",
    "\n",
    "De manera que de aquí se puede tomar a $t$ como $(t_0 + \\Delta t)$ y se puede iniciar con un proceso de iteración."
   ]
  },
  {
   "cell_type": "markdown",
   "metadata": {},
   "source": [
    "A continuación se definirán los integradores y en los comentarios se explicará para qué sirve cada paso"
   ]
  },
  {
   "cell_type": "code",
   "execution_count": 73,
   "metadata": {
    "collapsed": false
   },
   "outputs": [],
   "source": [
    "def euler(funcion,dfuncion,p_ini,t_final,h): #Aquí se definen las funciones, variables, arreglos, etc. de los que dependerá \n",
    "    #la función integradora 'euler', las cuales deberán ser introducidas en el orden que se han declarado.\n",
    "    tiempos = arange(p_ini[0],t_final+h,h) #aquí se determina el dominio como puntos discretos, igualmente especiados en \n",
    "    #un intervalo que va de p_ini[0] hasta t_final. El espaciado es de tamaño h.\n",
    "    y = [0]*len(tiempos) #se declara que y es un arreglo con una cantidad de entradas igual a la cantidad de puntos en el dominio\n",
    "    y[0] = p_ini[1] #condición inicial para el primer punto del dominio (valor de y(t) en ese punto)\n",
    "    z = [0]*len(tiempos)#se declara que z es un arreglo con una cantidad de entradas igual a la cantidad de puntos en el dominio\n",
    "    z[0] = p_ini[2]#condición inicial para el primer punto del dominio (valor de la derivada de y: z(t) en ese punto)\n",
    "    for i in range(len(tiempos)-1): #Por úlimo se tiene el proceso de iteración que comienza con los valores iniciales \n",
    "        #dados por el problema y[i] con i=0. El índice i corre desde 0 hasta el número de puntos en el dominio menos uno,\n",
    "        # esto garantiza que se tiene el mismo número de valores de y que de puntos en el dominio.\n",
    "        y[i+1] = y[i] + funcion(z[i], y[i], tiempos[i])*h #proceso numérico para calcular todos los valores de y en el dominio.\n",
    "        #nótese que depende de los valores de la derivada de y(t), es decir, los z[i], que son calculados en seguida.\n",
    "        z[i+1] = z[i] + dfuncion(z[i], y[i], tiempos[i])*h #proceso numérico para calcula todos los valores de y en el dominio\n",
    "        #nótese de nuevo que depende de los valores de la función y(t). Es por ello que deben ser resueltas simultáneamente.\n",
    "    solucion = [tiempos,y] #guarda los puntos del dominio y los obtenidos para y(t) en un arreglo de 2xi\n",
    "    return solucion"
   ]
  },
  {
   "cell_type": "code",
   "execution_count": 57,
   "metadata": {
    "collapsed": true
   },
   "outputs": [],
   "source": [
    "def taylor2(dfuncion,ddfuncion,dddfuncion,p_ini,t_final,h):\n",
    "    tiempos = arange(p_ini[0],t_final+h,h)\n",
    "    y = [0]*len(tiempos)\n",
    "    y[0] = p_ini[1]\n",
    "    z = [0]*len(tiempos)\n",
    "    z[0] = p_ini[2] #TODA esta primera sección tiene la misma función que en el método de euler, con excepción de que\n",
    "    #en esta ocasión se ha incluido una nueva dependencia de la función taylor2, que es la función dddfunción, explicada al inicio.\n",
    "    for i in range(len(tiempos)-1): #de nuevo, el proceso iterativo para obtener y(t).\n",
    "        y[i+1] = y[i] + dfuncion(z[i], y[i], tiempos[i])*h + 0.5*ddfuncion(z[i], y[i], tiempos[i])*(h**2)\n",
    "        z[i+1] = z[i] + ddfuncion(z[i], y[i], tiempos[i])*h + 0.5*dddfuncion(z[i], y[i], tiempos[i])*(h**2)\n",
    "        #es importante realtar que en este método se ha considerado el elemento de segundo orden en el desarrollo de Taylor, \n",
    "        #es decir, la segunda derivada de y(t) multiplicada por (h**2)/2!. Aquí de nuevo se observa la dependencia entre\n",
    "        # y(t) y su derviada y su derivada con y(t), lo que hace necesario resolverlas simultáneamente\n",
    "    solucion = [tiempos,y] \n",
    "    return solucion"
   ]
  },
  {
   "cell_type": "markdown",
   "metadata": {},
   "source": [
    "Los métodos de aproximación de Runke-Kutta se basan en escribir la ecuación $y' = f(y,t)$ como una ecuación integral que finalmente da \n",
    "\n",
    "$y_{n+1} = y_n + \\int_{t_n}^{t_{n+1}} f(y_n,t_n)dt$. \n",
    "\n",
    "La integral que se obtiene será calculada tambien mediante métodos numéricos y dependiendo del orden del método es el método de integración numerica que se usó. Para el segundo orden se usa el método de los trapecios, que indica que: \n",
    "\n",
    "$\\int_{t_n} ^{t_{n+1}} f(y_n,t_n)dt = \\frac{h}{2}(f(y_n,t_n) + f(y_{n+1},t_{n+1}$\n",
    "\n",
    "Para el orden cuarto, se toma la aproximación de la integral por una combinación del método de Simson y de Euler. Aquí la aproximación de la integral queda como:\n",
    "\n",
    "$\\int_{t_n} ^{t_{n+1}} f(y_n,t_n)dt = \\frac{1}{6}(k_1 + 2k_2 + 2k_3 + k_4)$\n",
    "\n",
    "Donde:\n",
    "$k_1 = h f(y_n,t_n)$, $k_2 = h f(y_n + k_1 /2, t_n + h/2)$, $k_3 = h f(y_n + k_2 /2, t_n + h/2)$ y $k_4 = h f(y_n + k_3, t_n + h)  $"
   ]
  },
  {
   "cell_type": "code",
   "execution_count": 59,
   "metadata": {
    "collapsed": false
   },
   "outputs": [],
   "source": [
    "def rk2(funcion,devfuncion,p_ini,t_final,h):\n",
    "    tiempos = arange(p_ini[0],t_final+h,h)\n",
    "    y = [0]*len(tiempos)\n",
    "    y[0] = p_ini[1]\n",
    "    z = [0]*len(tiempos)\n",
    "    z[0] = p_ini[2] #De nuevo, estas primeras líneas cumplen la misma función que en los anteriores métodos.\n",
    "    for i in range(len(tiempos)-1):\n",
    "        y[i+1] = y[i] + (h/2)*(funcion(z[i], y[i],tiempos[i]) + funcion(z[i],y[i] + h*funcion(z[i],y[i],tiempos[i]), tiempos[i+1])) \n",
    "        z[i+1] = z[i] + (h/2)*(devfuncion(z[i],y[i],tiempos[i]) + devfuncion(z[i], y[i] + h*devfuncion(z[i],y[i],tiempos[i]), tiempos[i+1]))\n",
    "        #De nuevo, en este método se tienen las ecuaciones y(t) y su derivada acopladas y es necesario resolverlas simultáneamente\n",
    "        #Ahora, los términos correspondientes a la función 'funcion' y 'devfuncion' son la derivada primera y segunda respectivamente de y(t)\n",
    "        #y la evaluación en ciertos puntos que indica la integración numérica.\n",
    "    solucion = [tiempos,y]\n",
    "    return solucion"
   ]
  },
  {
   "cell_type": "code",
   "execution_count": 60,
   "metadata": {
    "collapsed": false
   },
   "outputs": [],
   "source": [
    "def rk4(funcion,devfuncion,p_ini,t_final,h):\n",
    "    tiempos = arange(p_ini[0],t_final+h,h)\n",
    "    y = [0]*len(tiempos)\n",
    "    y[0] = p_ini[1]\n",
    "    z = [0]*len(tiempos)\n",
    "    z[0] = p_ini[2] #Las primeras líneas tienen la misma función que los anteriores métodos.\n",
    "    for i in range(len(tiempos)-1): #iniciando con el proceso iterativo, ha de comprenderse que la función f y su derivada\n",
    "        #dependen una de la otra, de manera que se vuelve necesario otra vez que la solución sea calculada otra vez de manera\n",
    "        #simultánea para ambas. A continuación se definen los números necesarios para calcular la integral numérica, en función\n",
    "        #de los otros números necesarios para calcular la integral numérica correspondiente a la derivada de f.\n",
    "        k1 = h*funcion(z[i],y[i],tiempos[i])\n",
    "        k2 = h*funcion(z[i],y[i] + k1/2, tiempos[i] + h/2)\n",
    "        k3 = h*funcion(z[i],y[i] + k2/2, tiempos[i] + h/2)\n",
    "        k4 = h*funcion(z[i],y[i] + k3, tiempos[i] + h)\n",
    "        y[i+1] = y[i] + (1/6)*(k1 + 2*k2 + 2*k3 + k4) #para solucion x, donde dfuncion es la derivada de x        \n",
    "        q1 = h*devfuncion(z[i],y[i],tiempos[i])\n",
    "        q2 = h*devfuncion(z[i],y[i] + q1/2, tiempos[i] + h/2)\n",
    "        q3 = h*devfuncion(z[i],y[i] + q2/2, tiempos[i] + h/2)\n",
    "        q4 = h*devfuncion(z[i],y[i] + q3, tiempos[i] + h)\n",
    "        z[i+1] = z[i] + (1/6)*(q1 + 2*q2 + 2*q3 + q4)\n",
    "    solucion = [tiempos,y]\n",
    "    return solucion"
   ]
  },
  {
   "cell_type": "markdown",
   "metadata": {},
   "source": [
    "Finalmente, para mostrar que los cuatro métodos funcionan y que deben dar una solución bastante parecida se desarrolla para la ecuación planteada en el problema 1 y de graficarán las soluciones a continuación:"
   ]
  },
  {
   "cell_type": "code",
   "execution_count": 74,
   "metadata": {
    "collapsed": false
   },
   "outputs": [
    {
     "data": {
      "text/plain": [
       "[<matplotlib.lines.Line2D at 0x2b9af25d908>,\n",
       " <matplotlib.lines.Line2D at 0x2b9af25da90>,\n",
       " <matplotlib.lines.Line2D at 0x2b9af264b38>,\n",
       " <matplotlib.lines.Line2D at 0x2b9af264c50>]"
      ]
     },
     "execution_count": 74,
     "metadata": {},
     "output_type": "execute_result"
    },
    {
     "data": {
      "image/png": "[encoded data removed]",
      "text/plain": [
       "<matplotlib.figure.Figure at 0x2b9b07cea90>"
      ]
     },
     "metadata": {},
     "output_type": "display_data"
    }
   ],
   "source": [
    "sol = rk4(dfuncion1,ddfuncion1,[0,0,1],50,0.01)\n",
    "sol1 = rk2(dfuncion1,ddfuncion1,[0,0,1],50,0.01)\n",
    "sol2 = taylor2(dfuncion1,ddfuncion1,dddfuncion1,[0,0,1],50,0.01)\n",
    "sol3 = euler(dfuncion1,ddfuncion1,[0,0,1],50,0.01)\n",
    "\n",
    "plot(sol[0],sol[1],sol1[0],sol1[1],sol2[0],sol2[1],sol3[0],sol3[1])"
   ]
  },
  {
   "cell_type": "markdown",
   "metadata": {},
   "source": [
    "Aquí a simple vista se observa una gran congruencia entre los resultados obtenidos con los cuatro métodos por separado, lo que nos da una garantía de que los cuatro funcionan y dan una proximación bastante buena."
   ]
  },
  {
   "cell_type": "code",
   "execution_count": 51,
   "metadata": {
    "collapsed": false
   },
   "outputs": [],
   "source": [
    "def factorial(x):\n",
    "    fac=1\n",
    "    veces = arange(0,x,1)\n",
    "    for i in range(len(veces)):\n",
    "        fac = fac*(i+1)\n",
    "    return fac"
   ]
  },
  {
   "cell_type": "markdown",
   "metadata": {},
   "source": [
    "Estas funciones definidas aquí son auxiliares que creamos en el salón."
   ]
  },
  {
   "cell_type": "code",
   "execution_count": 50,
   "metadata": {
    "collapsed": false
   },
   "outputs": [],
   "source": [
    "def miseno(x,h):\n",
    "    x,y = x%(2*pi),0.\n",
    "    if x <= (pi/2):\n",
    "        x = x\n",
    "    elif (pi/2) < x <= pi:\n",
    "        x = pi-x\n",
    "    elif pi < x <= ((3*pi)/2):\n",
    "        x = -(x-pi)\n",
    "    else:\n",
    "        x = x-2*pi\n",
    "    for i in range(h):\n",
    "        p = 2*i+1\n",
    "        y += ((-1)**i)*(x**(p)/factorial(p))\n",
    "    return y"
   ]
  },
  {
   "cell_type": "code",
   "execution_count": null,
   "metadata": {
    "collapsed": true
   },
   "outputs": [],
   "source": []
  }
 ],
 "metadata": {
  "anaconda-cloud": {},
  "kernelspec": {
   "display_name": "Python [Root]",
   "language": "python",
   "name": "Python [Root]"
  },
  "language_info": {
   "codemirror_mode": {
    "name": "ipython",
    "version": 3
   },
   "file_extension": ".py",
   "mimetype": "text/x-python",
   "name": "python",
   "nbconvert_exporter": "python",
   "pygments_lexer": "ipython3",
   "version": "3.5.2"
  }
 },
 "nbformat": 4,
 "nbformat_minor": 0
}
